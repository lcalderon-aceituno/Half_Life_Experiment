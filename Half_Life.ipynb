{
  "nbformat": 4,
  "nbformat_minor": 0,
  "metadata": {
    "colab": {
      "name": "Half Life.ipynb",
      "provenance": [],
      "include_colab_link": true
    },
    "kernelspec": {
      "name": "python3",
      "display_name": "Python 3"
    }
  },
  "cells": [
    {
      "cell_type": "markdown",
      "metadata": {
        "id": "view-in-github",
        "colab_type": "text"
      },
      "source": [
        "<a href=\"https://colab.research.google.com/github/lcalderon-aceituno24/Half_Life_Experiment/blob/main/Half_Life.ipynb\" target=\"_parent\"><img src=\"https://colab.research.google.com/assets/colab-badge.svg\" alt=\"Open In Colab\"/></a>"
      ]
    },
    {
      "cell_type": "markdown",
      "metadata": {
        "id": "-liJfuCrgUtd"
      },
      "source": [
        "# Analysis of Ba-137m Decay\n",
        "Lydia Calderon-Aceituno | December 1, 2020\n",
        "\n",
        "Determining the half-life of Ba-137m \n"
      ]
    },
    {
      "cell_type": "markdown",
      "metadata": {
        "id": "ByqbSiQMg7zj"
      },
      "source": [
        "# Equipment \n",
        "* LoggerPro software\n",
        "* Radiation Monitor (Vernier)\n",
        "* LabPro (Vernier) \n",
        "* Cs-137/Ba-137m minigenerator \n",
        "* Lead bricks \n",
        "* Ring stand and clamp"
      ]
    },
    {
      "cell_type": "code",
      "metadata": {
        "id": "aqx_dGDVk3CA"
      },
      "source": [
        "#Python commands to load libraries with special functions for importing data, plotting, and numerical processing\n",
        "import numpy as np\n",
        "import pandas as pd\n",
        "import matplotlib.pyplot as plt\n",
        "import scipy.constants as sciConst"
      ],
      "execution_count": 2,
      "outputs": []
    },
    {
      "cell_type": "code",
      "metadata": {
        "id": "mobVa43UgFgH"
      },
      "source": [
        "backgroundCountRate = 18.1 #radcounts/minute"
      ],
      "execution_count": 3,
      "outputs": []
    },
    {
      "cell_type": "code",
      "metadata": {
        "colab": {
          "base_uri": "https://localhost:8080/"
        },
        "id": "Qo9Sxel8s5zf",
        "outputId": "28ee8572-ef51-4679-9ba8-884d6dc6ea5b"
      },
      "source": [
        "from google.colab import drive\n",
        "drive.mount('/content/drive')"
      ],
      "execution_count": 4,
      "outputs": [
        {
          "output_type": "stream",
          "text": [
            "Mounted at /content/drive\n"
          ],
          "name": "stdout"
        }
      ]
    },
    {
      "cell_type": "code",
      "metadata": {
        "id": "D-avAhhjs_2S"
      },
      "source": [
        "path = \"/content/drive/My Drive/PS 251L/lcalderon-aceituno24/Half Life/\""
      ],
      "execution_count": 5,
      "outputs": []
    },
    {
      "cell_type": "code",
      "metadata": {
        "id": "QTux8hAyt5Y7"
      },
      "source": [
        "df = pd.read_csv(path + 'RadiationCounts_lcalderon-aceituno.csv', sep=\",\")"
      ],
      "execution_count": 6,
      "outputs": []
    },
    {
      "cell_type": "markdown",
      "metadata": {
        "id": "p1H5SmyjuwSX"
      },
      "source": [
        "Here we see a few sample values of the time v.s. radiation counts data:"
      ]
    },
    {
      "cell_type": "code",
      "metadata": {
        "colab": {
          "base_uri": "https://localhost:8080/",
          "height": 200
        },
        "id": "33oNM2NouOe9",
        "outputId": "51531654-f74c-4ff6-fbed-14e7ac5fdc63"
      },
      "source": [
        "df.head()"
      ],
      "execution_count": 7,
      "outputs": [
        {
          "output_type": "execute_result",
          "data": {
            "text/html": [
              "<div>\n",
              "<style scoped>\n",
              "    .dataframe tbody tr th:only-of-type {\n",
              "        vertical-align: middle;\n",
              "    }\n",
              "\n",
              "    .dataframe tbody tr th {\n",
              "        vertical-align: top;\n",
              "    }\n",
              "\n",
              "    .dataframe thead th {\n",
              "        text-align: right;\n",
              "    }\n",
              "</style>\n",
              "<table border=\"1\" class=\"dataframe\">\n",
              "  <thead>\n",
              "    <tr style=\"text-align: right;\">\n",
              "      <th></th>\n",
              "      <th>Latest: Time (min)</th>\n",
              "      <th>Latest: Radiation (Counts)</th>\n",
              "    </tr>\n",
              "  </thead>\n",
              "  <tbody>\n",
              "    <tr>\n",
              "      <th>0</th>\n",
              "      <td>0.25</td>\n",
              "      <td>1589</td>\n",
              "    </tr>\n",
              "    <tr>\n",
              "      <th>1</th>\n",
              "      <td>0.50</td>\n",
              "      <td>1469</td>\n",
              "    </tr>\n",
              "    <tr>\n",
              "      <th>2</th>\n",
              "      <td>0.75</td>\n",
              "      <td>1289</td>\n",
              "    </tr>\n",
              "    <tr>\n",
              "      <th>3</th>\n",
              "      <td>1.00</td>\n",
              "      <td>1318</td>\n",
              "    </tr>\n",
              "    <tr>\n",
              "      <th>4</th>\n",
              "      <td>1.25</td>\n",
              "      <td>1205</td>\n",
              "    </tr>\n",
              "  </tbody>\n",
              "</table>\n",
              "</div>"
            ],
            "text/plain": [
              "   Latest: Time (min)  Latest: Radiation (Counts)\n",
              "0                0.25                        1589\n",
              "1                0.50                        1469\n",
              "2                0.75                        1289\n",
              "3                1.00                        1318\n",
              "4                1.25                        1205"
            ]
          },
          "metadata": {
            "tags": []
          },
          "execution_count": 7
        }
      ]
    },
    {
      "cell_type": "markdown",
      "metadata": {
        "id": "7Ss5zc-qvsuG"
      },
      "source": [
        "For clarity, we re-name the column titles:"
      ]
    },
    {
      "cell_type": "code",
      "metadata": {
        "colab": {
          "base_uri": "https://localhost:8080/",
          "height": 200
        },
        "id": "YvDPNXH8uaar",
        "outputId": "37dbca2e-9f7b-438e-a5ab-6934ccd0f0ed"
      },
      "source": [
        "df.rename(columns = {'Latest: Time (min)':'t (min)','Latest: Radiation (Counts)':'Counts'},inplace=True);\n",
        "df.head()"
      ],
      "execution_count": 8,
      "outputs": [
        {
          "output_type": "execute_result",
          "data": {
            "text/html": [
              "<div>\n",
              "<style scoped>\n",
              "    .dataframe tbody tr th:only-of-type {\n",
              "        vertical-align: middle;\n",
              "    }\n",
              "\n",
              "    .dataframe tbody tr th {\n",
              "        vertical-align: top;\n",
              "    }\n",
              "\n",
              "    .dataframe thead th {\n",
              "        text-align: right;\n",
              "    }\n",
              "</style>\n",
              "<table border=\"1\" class=\"dataframe\">\n",
              "  <thead>\n",
              "    <tr style=\"text-align: right;\">\n",
              "      <th></th>\n",
              "      <th>t (min)</th>\n",
              "      <th>Counts</th>\n",
              "    </tr>\n",
              "  </thead>\n",
              "  <tbody>\n",
              "    <tr>\n",
              "      <th>0</th>\n",
              "      <td>0.25</td>\n",
              "      <td>1589</td>\n",
              "    </tr>\n",
              "    <tr>\n",
              "      <th>1</th>\n",
              "      <td>0.50</td>\n",
              "      <td>1469</td>\n",
              "    </tr>\n",
              "    <tr>\n",
              "      <th>2</th>\n",
              "      <td>0.75</td>\n",
              "      <td>1289</td>\n",
              "    </tr>\n",
              "    <tr>\n",
              "      <th>3</th>\n",
              "      <td>1.00</td>\n",
              "      <td>1318</td>\n",
              "    </tr>\n",
              "    <tr>\n",
              "      <th>4</th>\n",
              "      <td>1.25</td>\n",
              "      <td>1205</td>\n",
              "    </tr>\n",
              "  </tbody>\n",
              "</table>\n",
              "</div>"
            ],
            "text/plain": [
              "   t (min)  Counts\n",
              "0     0.25    1589\n",
              "1     0.50    1469\n",
              "2     0.75    1289\n",
              "3     1.00    1318\n",
              "4     1.25    1205"
            ]
          },
          "metadata": {
            "tags": []
          },
          "execution_count": 8
        }
      ]
    },
    {
      "cell_type": "code",
      "metadata": {
        "colab": {
          "base_uri": "https://localhost:8080/",
          "height": 200
        },
        "id": "tsUPlfkkvcmw",
        "outputId": "dad3b4b3-4bd5-4319-92f2-b9dfa9d6c704"
      },
      "source": [
        "# Uncertainty calculations\n",
        "df['Count uncertainty']=2*np.sqrt(df['Counts']); # errror in counts with 95% CI\n",
        "df.head()\n"
      ],
      "execution_count": 9,
      "outputs": [
        {
          "output_type": "execute_result",
          "data": {
            "text/html": [
              "<div>\n",
              "<style scoped>\n",
              "    .dataframe tbody tr th:only-of-type {\n",
              "        vertical-align: middle;\n",
              "    }\n",
              "\n",
              "    .dataframe tbody tr th {\n",
              "        vertical-align: top;\n",
              "    }\n",
              "\n",
              "    .dataframe thead th {\n",
              "        text-align: right;\n",
              "    }\n",
              "</style>\n",
              "<table border=\"1\" class=\"dataframe\">\n",
              "  <thead>\n",
              "    <tr style=\"text-align: right;\">\n",
              "      <th></th>\n",
              "      <th>t (min)</th>\n",
              "      <th>Counts</th>\n",
              "      <th>Count uncertainty</th>\n",
              "    </tr>\n",
              "  </thead>\n",
              "  <tbody>\n",
              "    <tr>\n",
              "      <th>0</th>\n",
              "      <td>0.25</td>\n",
              "      <td>1589</td>\n",
              "      <td>79.724526</td>\n",
              "    </tr>\n",
              "    <tr>\n",
              "      <th>1</th>\n",
              "      <td>0.50</td>\n",
              "      <td>1469</td>\n",
              "      <td>76.655072</td>\n",
              "    </tr>\n",
              "    <tr>\n",
              "      <th>2</th>\n",
              "      <td>0.75</td>\n",
              "      <td>1289</td>\n",
              "      <td>71.805292</td>\n",
              "    </tr>\n",
              "    <tr>\n",
              "      <th>3</th>\n",
              "      <td>1.00</td>\n",
              "      <td>1318</td>\n",
              "      <td>72.608539</td>\n",
              "    </tr>\n",
              "    <tr>\n",
              "      <th>4</th>\n",
              "      <td>1.25</td>\n",
              "      <td>1205</td>\n",
              "      <td>69.426220</td>\n",
              "    </tr>\n",
              "  </tbody>\n",
              "</table>\n",
              "</div>"
            ],
            "text/plain": [
              "   t (min)  Counts  Count uncertainty\n",
              "0     0.25    1589          79.724526\n",
              "1     0.50    1469          76.655072\n",
              "2     0.75    1289          71.805292\n",
              "3     1.00    1318          72.608539\n",
              "4     1.25    1205          69.426220"
            ]
          },
          "metadata": {
            "tags": []
          },
          "execution_count": 9
        }
      ]
    },
    {
      "cell_type": "code",
      "metadata": {
        "id": "zbRv6BPCw20w"
      },
      "source": [
        "df['Counts']=df['Counts']-backgroundCountRate/4;"
      ],
      "execution_count": 10,
      "outputs": []
    },
    {
      "cell_type": "code",
      "metadata": {
        "colab": {
          "base_uri": "https://localhost:8080/",
          "height": 279
        },
        "id": "KGAQBXt2v9Sc",
        "outputId": "2753704f-61ff-4572-d847-c0bd9eeb1831"
      },
      "source": [
        "# plot \n",
        "fig1, ax1=plt.subplots()\n",
        "ax1.errorbar(df['t (min)'],df['Counts'],df['Count uncertainty'],fmt=\".\")\n",
        "ax1.set_xlabel(\"Time (min)\")\n",
        "ax1.set_ylabel(\"Counts\");"
      ],
      "execution_count": 11,
      "outputs": [
        {
          "output_type": "display_data",
          "data": {
            "image/png": "[encoded data removed]",
            "text/plain": [
              "<Figure size 432x288 with 1 Axes>"
            ]
          },
          "metadata": {
            "tags": [],
            "needs_background": "light"
          }
        }
      ]
    },
    {
      "cell_type": "code",
      "metadata": {
        "id": "0qqta4Fnyk-B"
      },
      "source": [
        "## equation for ln(counts)\n",
        "df['Log counts']=np.log(df['Counts']);"
      ],
      "execution_count": 12,
      "outputs": []
    },
    {
      "cell_type": "markdown",
      "metadata": {
        "id": "YidSAKpW0Bh0"
      },
      "source": [
        "For a function$f(x)$, if the uncertainty in $x$ is represented by $\\delta x$, then the uncertainty in $f(x)$ is \n",
        "\n",
        "$\\delta f=\\frac{df}{dx}\\delta x$\n",
        "\n",
        "In our case, since $f(x)=\\mathrm{ln}x$, $\\delta f= \\frac{\\delta x}{x}$"
      ]
    },
    {
      "cell_type": "code",
      "metadata": {
        "id": "Zw6A063XzKKG"
      },
      "source": [
        "df['Log counts uncertainty']=df['Count uncertainty']/df['Counts']"
      ],
      "execution_count": 13,
      "outputs": []
    },
    {
      "cell_type": "code",
      "metadata": {
        "colab": {
          "base_uri": "https://localhost:8080/",
          "height": 200
        },
        "id": "jvs5euB200vf",
        "outputId": "2949943a-80ae-4326-9d9c-3667243ee07e"
      },
      "source": [
        "# updated DataFrame\n",
        "df.head()"
      ],
      "execution_count": 14,
      "outputs": [
        {
          "output_type": "execute_result",
          "data": {
            "text/html": [
              "<div>\n",
              "<style scoped>\n",
              "    .dataframe tbody tr th:only-of-type {\n",
              "        vertical-align: middle;\n",
              "    }\n",
              "\n",
              "    .dataframe tbody tr th {\n",
              "        vertical-align: top;\n",
              "    }\n",
              "\n",
              "    .dataframe thead th {\n",
              "        text-align: right;\n",
              "    }\n",
              "</style>\n",
              "<table border=\"1\" class=\"dataframe\">\n",
              "  <thead>\n",
              "    <tr style=\"text-align: right;\">\n",
              "      <th></th>\n",
              "      <th>t (min)</th>\n",
              "      <th>Counts</th>\n",
              "      <th>Count uncertainty</th>\n",
              "      <th>Log counts</th>\n",
              "      <th>Log counts uncertainty</th>\n",
              "    </tr>\n",
              "  </thead>\n",
              "  <tbody>\n",
              "    <tr>\n",
              "      <th>0</th>\n",
              "      <td>0.25</td>\n",
              "      <td>1584.475</td>\n",
              "      <td>79.724526</td>\n",
              "      <td>7.368008</td>\n",
              "      <td>0.050316</td>\n",
              "    </tr>\n",
              "    <tr>\n",
              "      <th>1</th>\n",
              "      <td>0.50</td>\n",
              "      <td>1464.475</td>\n",
              "      <td>76.655072</td>\n",
              "      <td>7.289252</td>\n",
              "      <td>0.052343</td>\n",
              "    </tr>\n",
              "    <tr>\n",
              "      <th>2</th>\n",
              "      <td>0.75</td>\n",
              "      <td>1284.475</td>\n",
              "      <td>71.805292</td>\n",
              "      <td>7.158105</td>\n",
              "      <td>0.055902</td>\n",
              "    </tr>\n",
              "    <tr>\n",
              "      <th>3</th>\n",
              "      <td>1.00</td>\n",
              "      <td>1313.475</td>\n",
              "      <td>72.608539</td>\n",
              "      <td>7.180432</td>\n",
              "      <td>0.055280</td>\n",
              "    </tr>\n",
              "    <tr>\n",
              "      <th>4</th>\n",
              "      <td>1.25</td>\n",
              "      <td>1200.475</td>\n",
              "      <td>69.426220</td>\n",
              "      <td>7.090473</td>\n",
              "      <td>0.057832</td>\n",
              "    </tr>\n",
              "  </tbody>\n",
              "</table>\n",
              "</div>"
            ],
            "text/plain": [
              "   t (min)    Counts  Count uncertainty  Log counts  Log counts uncertainty\n",
              "0     0.25  1584.475          79.724526    7.368008                0.050316\n",
              "1     0.50  1464.475          76.655072    7.289252                0.052343\n",
              "2     0.75  1284.475          71.805292    7.158105                0.055902\n",
              "3     1.00  1313.475          72.608539    7.180432                0.055280\n",
              "4     1.25  1200.475          69.426220    7.090473                0.057832"
            ]
          },
          "metadata": {
            "tags": []
          },
          "execution_count": 14
        }
      ]
    },
    {
      "cell_type": "code",
      "metadata": {
        "colab": {
          "base_uri": "https://localhost:8080/"
        },
        "id": "1QKrpFK9jtWk",
        "outputId": "6ec2dbdf-9cd2-4bd0-aab9-8af07f421cd2"
      },
      "source": [
        "#Best fit line to graph to ln counts vs t using polyfit \n",
        "fitPoly, fitCov = np.polyfit(df['t (min)'], df['Log counts'], 1, w=1/df['Log counts uncertainty'], cov=True)\n",
        "fitErrors = 2*np.sqrt(np.diagonal(fitCov))\n",
        "fitFunc = np.poly1d(fitPoly)\n",
        "print(fitPoly)\n",
        "print(fitErrors)"
      ],
      "execution_count": 15,
      "outputs": [
        {
          "output_type": "stream",
          "text": [
            "[-0.26217677  7.40535599]\n",
            "[0.00421464 0.02004874]\n"
          ],
          "name": "stdout"
        }
      ]
    },
    {
      "cell_type": "code",
      "metadata": {
        "colab": {
          "base_uri": "https://localhost:8080/"
        },
        "id": "2k8ESfZxnkUb",
        "outputId": "6b086420-15b9-4eb7-d1b8-a2041ee8cb91"
      },
      "source": [
        "decayConst = fitPoly[0]\n",
        "dDecayConst= fitErrors[0]\n",
        "halflife = np.log(2)/decayConst;\n",
        "dhalflife = dDecayConst/halflife;\n",
        "print(halflife,dhalflife);"
      ],
      "execution_count": 16,
      "outputs": [
        {
          "output_type": "stream",
          "text": [
            "-2.6438161822320962 -0.0015941514030733284\n"
          ],
          "name": "stdout"
        }
      ]
    },
    {
      "cell_type": "code",
      "metadata": {
        "colab": {
          "base_uri": "https://localhost:8080/",
          "height": 279
        },
        "id": "enZPPTnI1fz2",
        "outputId": "6724fd97-f8b0-4ba5-ffd4-6616072fba00"
      },
      "source": [
        "# plot uncertainty\n",
        "fig2, ax2=plt.subplots()\n",
        "ax2.errorbar(df['t (min)'],df['Log counts'],df['Log counts uncertainty'],fmt=\".\")\n",
        "ax2.set_xlabel(\"Time (min)\")\n",
        "ax2.set_ylabel(\"Log counts\");\n",
        "\n",
        "#best fit line\n",
        "t_fit = np.linspace(0,16,3);\n",
        "ax2.plot(t_fit, fitFunc(t_fit));\n",
        "\n",
        "# best fit data display\n",
        "fitInfo = r\"$t_{1/2}=(%.3f\\pm%.3f)\\ \\mathrm{min}$\" % (halflife, dhalflife)\n",
        "ax2.text(6,7,fitInfo);\n"
      ],
      "execution_count": 17,
      "outputs": [
        {
          "output_type": "display_data",
          "data": {
            "image/png": "[encoded data removed]",
            "text/plain": [
              "<Figure size 432x288 with 1 Axes>"
            ]
          },
          "metadata": {
            "tags": [],
            "needs_background": "light"
          }
        }
      ]
    },
    {
      "cell_type": "code",
      "metadata": {
        "id": "5c9g0oDN_nRq",
        "colab": {
          "base_uri": "https://localhost:8080/"
        },
        "outputId": "00513bd5-a534-4dc5-b045-698740a59efe"
      },
      "source": [
        "# calculate percent error \n",
        "percenterror = abs(((abs(halflife) - 2.552)/2.552))*100\n",
        "print (percenterror)\n",
        "print (abs(halflife))"
      ],
      "execution_count": 18,
      "outputs": [
        {
          "output_type": "stream",
          "text": [
            "3.5978127833893496\n",
            "2.6438161822320962\n"
          ],
          "name": "stdout"
        }
      ]
    },
    {
      "cell_type": "markdown",
      "metadata": {
        "id": "ZmUkWBOvxQhr"
      },
      "source": [
        "The half life of Ba-137m was calculated to be $2.64$ minutes, with a percent error of $3.60\\%$ when compared to the literature value. "
      ]
    }
  ]
}